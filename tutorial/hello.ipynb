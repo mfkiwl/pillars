{
 "cells": [
  {
   "cell_type": "markdown",
   "id": "309191d4",
   "metadata": {},
   "source": [
    "Build (or rebuild) the ``pillars`` package. Feel free to skip this step if the package is up to date."
   ]
  },
  {
   "cell_type": "code",
   "execution_count": null,
   "id": "59de40d9",
   "metadata": {},
   "outputs": [],
   "source": [
    "import sys.process._\n",
    "\"make -C .. build\".!"
   ]
  },
  {
   "cell_type": "markdown",
   "id": "f05dcc4e",
   "metadata": {},
   "source": [
    "Load the library dependency and the ``pillars`` package (in two JAR files)."
   ]
  },
  {
   "cell_type": "code",
   "execution_count": null,
   "id": "8f5ad382",
   "metadata": {},
   "outputs": [],
   "source": [
    "val scala_version = \"2.12\"\n",
    "val pillars_version = \"3.1.1\"\n",
    "\n",
    "val ivy_path = System.getProperty(\"user.dir\") + \"/load-ivy.sc\"\n",
    "interp.load.module(ammonite.ops.Path(java.nio.file.FileSystems.getDefault().getPath(ivy_path)))\n",
    "\n",
    "val jar_path = System.getProperty(\"user.dir\") + s\"/../target/scala-$scala_version/pillars-project_$scala_version-$pillars_version\"\n",
    "val jar_files = Array(jar_path + \".jar\", jar_path + \"-tests.jar\")\n",
    "for (jar <- jar_files) {\n",
    "    interp.load.cp(new java.io.File(jar).toURI.toURL)\n",
    "}"
   ]
  },
  {
   "cell_type": "markdown",
   "id": "afa80ef8",
   "metadata": {},
   "source": [
    "A example for testing a 2×2 TileBlock with 2 input ports and 1 output port."
   ]
  },
  {
   "cell_type": "code",
   "execution_count": null,
   "id": "55ee942e",
   "metadata": {},
   "outputs": [],
   "source": [
    "tetriski.pillars.examples.HardwareExamples.exampleAdres()"
   ]
  }
 ],
 "metadata": {
  "kernelspec": {
   "display_name": "Scala",
   "language": "scala",
   "name": "scala"
  },
  "language_info": {
   "codemirror_mode": "text/x-scala",
   "file_extension": ".scala",
   "mimetype": "text/x-scala",
   "name": "scala",
   "nbconvert_exporter": "script",
   "version": "2.12.10"
  }
 },
 "nbformat": 4,
 "nbformat_minor": 5
}
