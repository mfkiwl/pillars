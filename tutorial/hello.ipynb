{
 "cells": [
  {
   "cell_type": "markdown",
   "id": "309191d4",
   "metadata": {},
   "source": [
    "Build (or rebuild) the ``pillars`` package. Run ``\"make -C .. build\" !`` **ONLY WHEN** the local package is out-of-date."
   ]
  },
  {
   "cell_type": "code",
   "execution_count": null,
   "id": "59de40d9",
   "metadata": {},
   "outputs": [],
   "source": [
    "import sys.process._\n",
    "//\"make -C .. build\" !"
   ]
  },
  {
   "cell_type": "markdown",
   "id": "f05dcc4e",
   "metadata": {},
   "source": [
    "Load the library dependencies (see ``load-ivy.sc`` for details)."
   ]
  },
  {
   "cell_type": "code",
   "execution_count": null,
   "id": "8f5ad382",
   "metadata": {},
   "outputs": [],
   "source": [
    "val ivy_path = System.getProperty(\"user.dir\") + \"/load-ivy.sc\"\n",
    "interp.load.module(ammonite.ops.Path(java.nio.file.FileSystems.getDefault().getPath(ivy_path)))"
   ]
  },
  {
   "cell_type": "markdown",
   "id": "afa80ef8",
   "metadata": {},
   "source": [
    "Define a block that performs computation between the selected input and an immediate operand."
   ]
  },
  {
   "cell_type": "code",
   "execution_count": null,
   "id": "55ee942e",
   "metadata": {},
   "outputs": [],
   "source": [
    "import tetriski.pillars.core.{BlockTrait, OpEnum}\n",
    "import tetriski.pillars.core.OpEnum.OpEnum\n",
    "import tetriski.pillars.hardware.PillarsConfig\n",
    "import tetriski.pillars.archlib.{ElementAlu, ElementConst, ElementMux}\n",
    "\n",
    "/** A subblock that performs computation between the selected input and a immediate operand.\n",
    " *\n",
    " * @constructor create an abstract block model that performs computation between the input and a immediate operand\n",
    " * @param name the name of the model\n",
    " */\n",
    "class BlockImmediate(name: String) extends BlockTrait {\n",
    "  val aluParams = List(32)\n",
    "  val aluOpList = List(OpEnum.ADD)\n",
    "  val muxParams = List(2, 32)\n",
    "  val constParams = List(PillarsConfig.CONST_WIDTH)\n",
    "  initName(name)\n",
    "\n",
    "  addInPorts(Array(\"in0\", \"in1\"))\n",
    "  addOutPorts(Array(\"out0\"))\n",
    "  setConfigRegion()\n",
    "\n",
    "  /** A multiplexer that can choose a data source for the port \"inputA\" of the ALU.\n",
    "   */\n",
    "  val mux0 = new ElementMux(\"mux0\", muxParams)\n",
    "  mux0.addInPorts(Array(\"input0\", \"input1\"))\n",
    "  mux0.addOutPorts(Array(\"out0\"))\n",
    "  addElement(mux0)\n",
    "\n",
    "  /** An ALU that can perform some operations.\n",
    "   */\n",
    "  val alu0 = new ElementAlu(\"alu0\", aluOpList, supBypass = true, aluParams)\n",
    "  alu0.addInPorts(Array(\"inputA\", \"inputB\"))\n",
    "  alu0.addOutPorts(Array(\"out0\"))\n",
    "  addElement(alu0)\n",
    "\n",
    "  /** A const unit connected to the port \"inputB\" of ALU.\n",
    "   */\n",
    "  val const0 = new ElementConst(\"const0\", constParams)\n",
    "  const0.addOutPorts(Array(\"out0\"))\n",
    "  addElement(const0)\n",
    "\n",
    "  /** Interconnection inside this block.\n",
    "   */\n",
    "  addConnect(term(\"in0\") -> mux0 / \"input0\")\n",
    "  addConnect(term(\"in1\") -> mux0 / \"input1\")\n",
    "  addConnect(mux0 / \"out0\" -> alu0 / \"inputA\")\n",
    "  addConnect(const0 / \"out0\" -> alu0 / \"inputB\")\n",
    "  addConnect(alu0 / \"out0\" -> term(\"out0\"))\n",
    "}"
   ]
  },
  {
   "cell_type": "markdown",
   "id": "d29d14e2",
   "metadata": {},
   "source": [
    "Define an architecture and generate RTL code."
   ]
  },
  {
   "cell_type": "code",
   "execution_count": null,
   "id": "654bacd4",
   "metadata": {},
   "outputs": [],
   "source": [
    "import tetriski.pillars.core.{ArchitectureHierarchy, Connect, HardwareGenerator}\n",
    "import tetriski.pillars.hardware.TopModule\n",
    "\n",
    "val arch = new ArchitectureHierarchy()\n",
    "\n",
    "val blockImm = new BlockImmediate(\"blockImm\")\n",
    "arch.addBlock(blockImm)\n",
    "\n",
    "arch.addInPorts(Array(\"in0\", \"in1\"))\n",
    "arch.addOutPorts(Array(\"out0\"))\n",
    "\n",
    "arch.addConnect(arch.term(\"in0\") -> blockImm/\"in0\")\n",
    "arch.addConnect(arch.term(\"in1\") -> blockImm/\"in1\")\n",
    "arch.addConnect(blockImm/\"out0\" -> arch.term(\"out0\"))\n",
    "\n",
    "arch.init()\n",
    "\n",
    "val connect = new Connect(arch.connectArray)\n",
    "val hardwareGenerator = new HardwareGenerator(arch, connect)\n",
    "val topDesign = () => new TopModule(\n",
    "    hardwareGenerator.pillarsModuleInfo, hardwareGenerator.connectMap,\n",
    "    hardwareGenerator.regionList, blockImm.aluParams(0)\n",
    ")\n",
    "\n",
    "chisel3.Driver.execute(Array(\"-td\", \"RTL/\"), topDesign)"
   ]
  }
 ],
 "metadata": {
  "kernelspec": {
   "display_name": "Scala",
   "language": "scala",
   "name": "scala"
  },
  "language_info": {
   "codemirror_mode": "text/x-scala",
   "file_extension": ".scala",
   "mimetype": "text/x-scala",
   "name": "scala",
   "nbconvert_exporter": "script",
   "version": "2.12.10"
  }
 },
 "nbformat": 4,
 "nbformat_minor": 5
}
