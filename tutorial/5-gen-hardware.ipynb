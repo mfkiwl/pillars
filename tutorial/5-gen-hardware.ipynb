{
 "cells": [
  {
   "cell_type": "markdown",
   "id": "4aa4e46b",
   "metadata": {},
   "source": [
    "# Generation of Hardware"
   ]
  },
  {
   "cell_type": "markdown",
   "id": "5a800da4",
   "metadata": {},
   "source": [
    "## Setup"
   ]
  },
  {
   "cell_type": "code",
   "execution_count": null,
   "id": "231bcc61",
   "metadata": {},
   "outputs": [],
   "source": [
    "val ivy_path = System.getProperty(\"user.dir\") + \"/load-ivy.sc\"\n",
    "interp.load.module(ammonite.ops.Path(java.nio.file.FileSystems.getDefault().getPath(ivy_path)))"
   ]
  },
  {
   "cell_type": "code",
   "execution_count": null,
   "id": "923bbec1",
   "metadata": {},
   "outputs": [],
   "source": [
    "import tetriski.pillars.core.{ArchitectureHierarchy, Connect, HardwareGenerator}\n",
    "import tetriski.pillars.hardware.TopModule\n",
    "import tetriski.pillars.archlib.BlockImmediate"
   ]
  },
  {
   "cell_type": "markdown",
   "id": "acc3bee3",
   "metadata": {},
   "source": [
    "## Construct the architecture of the top module\n",
    "\n",
    "In this example, the top module consists of a single block (i.e., `BlockImmediate`)."
   ]
  },
  {
   "cell_type": "code",
   "execution_count": null,
   "id": "90acc510",
   "metadata": {},
   "outputs": [],
   "source": [
    "val arch = new ArchitectureHierarchy()\n",
    "\n",
    "val blockImm = new BlockImmediate(\"blockImm\")\n",
    "arch.addBlock(blockImm)\n",
    "\n",
    "arch.addInPorts(Array(\"in0\", \"in1\"))\n",
    "arch.addOutPorts(Array(\"out0\"))\n",
    "\n",
    "arch.addConnect(arch.term(\"in0\") -> blockImm/\"in0\")\n",
    "arch.addConnect(arch.term(\"in1\") -> blockImm/\"in1\")\n",
    "arch.addConnect(blockImm/\"out0\" -> arch.term(\"out0\"))\n",
    "\n",
    "arch.init()"
   ]
  },
  {
   "cell_type": "markdown",
   "id": "0de19e1b",
   "metadata": {},
   "source": [
    "## Construct the top module using `HardwareGenerator`"
   ]
  },
  {
   "cell_type": "code",
   "execution_count": null,
   "id": "0d4799c7",
   "metadata": {},
   "outputs": [],
   "source": [
    "val hardwareGenerator = new HardwareGenerator(arch, new Connect(arch.connectArray))\n",
    "\n",
    "val topDesign = () => new TopModule(\n",
    "    hardwareGenerator.pillarsModuleInfo, hardwareGenerator.connectMap,\n",
    "    hardwareGenerator.regionList, blockImm.aluParams(0)\n",
    ")"
   ]
  },
  {
   "cell_type": "markdown",
   "id": "0853d6e5",
   "metadata": {},
   "source": [
    "## Generate the Verilog Code"
   ]
  },
  {
   "cell_type": "code",
   "execution_count": null,
   "id": "0a10b58c",
   "metadata": {},
   "outputs": [],
   "source": [
    "println(chisel3.Driver.emitVerilog(topDesign()))"
   ]
  }
 ],
 "metadata": {
  "kernelspec": {
   "display_name": "Scala",
   "language": "scala",
   "name": "scala"
  },
  "language_info": {
   "codemirror_mode": "text/x-scala",
   "file_extension": ".scala",
   "mimetype": "text/x-scala",
   "name": "scala",
   "nbconvert_exporter": "script",
   "version": "2.12.10"
  }
 },
 "nbformat": 4,
 "nbformat_minor": 5
}
