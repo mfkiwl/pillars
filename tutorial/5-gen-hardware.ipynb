{
 "cells": [
  {
   "cell_type": "markdown",
   "id": "4aa4e46b",
   "metadata": {},
   "source": [
    "# Generation of Hardware"
   ]
  },
  {
   "cell_type": "markdown",
   "id": "84d8d3cb",
   "metadata": {},
   "source": [
    "This chapter shows how to generate the CGRA hardware with blocks."
   ]
  },
  {
   "cell_type": "markdown",
   "id": "5a800da4",
   "metadata": {},
   "source": [
    "## Setup"
   ]
  },
  {
   "cell_type": "code",
   "execution_count": null,
   "id": "231bcc61",
   "metadata": {},
   "outputs": [],
   "source": [
    "val ivy_path = System.getProperty(\"user.dir\") + \"/load-ivy.sc\"\n",
    "interp.load.module(ammonite.ops.Path(java.nio.file.FileSystems.getDefault().getPath(ivy_path)))"
   ]
  },
  {
   "cell_type": "code",
   "execution_count": null,
   "id": "923bbec1",
   "metadata": {},
   "outputs": [],
   "source": [
    "import pillars.core.{ArchitectureHierarchy, Connect, HardwareGenerator}\n",
    "import pillars.hardware.TopModule\n",
    "import pillars.archlib.BlockImmediate\n",
    "import pillars.archlib.TileLSUBlock\n",
    "import pillars.core._\n",
    "import pillars.archlib._\n",
    "import pillars.core.{BlockTrait, OpEnum}\n",
    "import pillars.core.OpEnum.OpEnum\n",
    "import pillars.hardware.PillarsConfig"
   ]
  },
  {
   "cell_type": "markdown",
   "id": "acc3bee3",
   "metadata": {},
   "source": [
    "## `Example1`: Top Module with a single block (i.e., `BlockImmediate`).\n",
    "\n",
    "### Step1: Create a block. \n",
    "\n",
    "This part is mentioned in Chapter3 of our tutorial.\n",
    " \n",
    "### Step2: Construct the architecture of the top module"
   ]
  },
  {
   "cell_type": "code",
   "execution_count": null,
   "id": "90acc510",
   "metadata": {},
   "outputs": [],
   "source": [
    "val arch = new ArchitectureHierarchy()\n",
    "\n",
    "val blockImm = new BlockImmediate(\"blockImm\")\n",
    "arch.addBlock(blockImm)\n",
    "\n",
    "arch.addInPorts(Array(\"in0\", \"in1\"))\n",
    "arch.addOutPorts(Array(\"out0\"))\n",
    "\n",
    "arch.addConnect(arch.term(\"in0\") -> blockImm/\"in0\")\n",
    "arch.addConnect(arch.term(\"in1\") -> blockImm/\"in1\")\n",
    "arch.addConnect(blockImm/\"out0\" -> arch.term(\"out0\"))\n",
    "\n",
    "arch.init()"
   ]
  },
  {
   "cell_type": "markdown",
   "id": "0de19e1b",
   "metadata": {},
   "source": [
    "### Step3: Construct the top module using `HardwareGenerator`"
   ]
  },
  {
   "cell_type": "code",
   "execution_count": null,
   "id": "0d4799c7",
   "metadata": {},
   "outputs": [],
   "source": [
    "val hardwareGenerator = new HardwareGenerator(arch, new Connect(arch.connectArray))\n",
    "\n",
    "val topDesign = () => new TopModule(\n",
    "    hardwareGenerator.pillarsModuleInfo, hardwareGenerator.connectMap,\n",
    "    hardwareGenerator.regionList, blockImm.aluParams(0)\n",
    ")\n",
    "\n",
    "chisel3.emitVerilog(topDesign())\n",
    "visualize(topDesign)"
   ]
  },
  {
   "cell_type": "markdown",
   "id": "64cfb63b",
   "metadata": {},
   "source": [
    "### *Generate a CGRA without synchronizers and schedule controllers*"
   ]
  },
  {
   "cell_type": "code",
   "execution_count": null,
   "id": "1105facc",
   "metadata": {},
   "outputs": [],
   "source": [
    "//If only you need configuration controller\n",
    "PillarsConfig.LOG_SCHEDULE_SIZE = 0\n",
    "PillarsConfig.SKEW_REGISTER_NUM = -1\n",
    "PillarsConfig.update_auxiliary()\n",
    "visualize(topDesign)"
   ]
  },
  {
   "cell_type": "markdown",
   "id": "50ccf54c",
   "metadata": {},
   "source": [
    "## `Example2`: Generate a CGRA with a nest block and a simple blok\n",
    "\n",
    "### Step1: Declare SimpleBlock and NestBlock created in Chapter3"
   ]
  },
  {
   "cell_type": "code",
   "execution_count": null,
   "id": "c67bf9be",
   "metadata": {},
   "outputs": [],
   "source": [
    "class SimpleBlock(name: String, isRegion: Boolean = false) extends BlockTrait {\n",
    "    initName(name)\n",
    "    addInPorts(Array(\"input_0\",\"input_1\"))\n",
    "    addOutPorts(Array(\"out_0\"))\n",
    "    \n",
    "    if(isRegion){\n",
    "        setConfigRegion()\n",
    "    }\n",
    "    \n",
    "    // Initialize ALU supporting ADD/SUB\n",
    "    val aluOpList = List(OpEnum.ADD, OpEnum.SUB)\n",
    "    val supBypass = false \n",
    "    val aluParams = List(32) // 32 bit width\n",
    "    val alu0 = new ElementAlu(name+\"_ALU\", aluOpList, supBypass, List(32))\n",
    "    alu0.addInPorts(Array(\"input_A\", \"input_B\"))\n",
    "    alu0.addOutPorts(Array(\"out_0\"))\n",
    "    addElement(alu0)\n",
    "    \n",
    "    // Initialize internal connections\n",
    "    addConnect(term(\"input_0\") -> alu0 / \"input_A\")\n",
    "    addConnect(term(\"input_1\") -> alu0 / \"input_B\")\n",
    "    addConnect(alu0 / \"out_0\" -> term(\"out_0\"))\n",
    "}\n",
    "\n",
    "class NestBlock(name: String, isRegion:Boolean = false) extends BlockTrait {\n",
    "    initName(name)\n",
    "    addInPorts(Array(\"input_0\", \"input_1\"))\n",
    "    addOutPorts(Array(\"out_0\"))\n",
    "\n",
    "     if(isRegion){\n",
    "        setConfigRegion()\n",
    "    }\n",
    "    \n",
    "    // A multiplexer that can choose a data source for the port \"inputA\" of the ALU.\n",
    "    val muxParams = List(2, 32) // 2-input 32-bit width\n",
    "    val mux0 = new ElementMux(name+\"_mux\", muxParams)\n",
    "    mux0.addInPorts(Array(\"input_0\", \"input_1\"))\n",
    "    mux0.addOutPorts(Array(\"out_0\"))\n",
    "    addElement(mux0)\n",
    "    \n",
    "    // An ALU that can perform some operations.\n",
    "    val aluOpList = List(OpEnum.ADD, OpEnum.SUB, OpEnum.AND, OpEnum.OR, OpEnum.XOR, OpEnum.MUL)\n",
    "    val supBypass = true \n",
    "    val aluParams = List(32) // 32 bit width\n",
    "    val alu0 = new ElementAlu(name+\"_ALU\", aluOpList, supBypass, aluParams)\n",
    "    \n",
    "    alu0.addInPorts(Array(\"inputA\", \"inputB\"))\n",
    "    alu0.addOutPorts(Array(\"out_0\"))\n",
    "    addElement(alu0)\n",
    "    \n",
    "    // A const unit connected to the port \"inputB\" of ALU.\n",
    "    val constParams = List(32) // 32 bit width\n",
    "    val const0 = new ElementConst(name+\"_const0\", constParams)\n",
    "    const0.addOutPorts(Array(\"out_0\"))\n",
    "    addElement(const0)\n",
    "    \n",
    "    // A simple sub-block with 2 input ports and 1 output port.\n",
    "    val subBLock = new SimpleBlock(name+\"_subBlock\")\n",
    "    addBlock(subBLock)\n",
    "\n",
    "    // Interconnection inside this block.\n",
    "    addConnect(term(\"input_0\") -> mux0 / \"input_0\")\n",
    "    addConnect(term(\"input_1\") -> mux0 / \"input_1\")\n",
    "    addConnect(mux0 / \"out_0\" -> alu0 / \"inputA\")\n",
    "    addConnect(const0 / \"out_0\" -> alu0 / \"inputB\")\n",
    "    addConnect(term(\"input_1\") -> subBLock / \"input_0\")\n",
    "    addConnect(alu0 / \"out_0\" -> subBLock / \"input_1\")\n",
    "    addConnect(subBLock / \"out_0\" -> term(\"out_0\"))\n",
    "}"
   ]
  },
  {
   "cell_type": "markdown",
   "id": "5c924c50",
   "metadata": {},
   "source": [
    "### Step2: Connect the two blocks in architecture."
   ]
  },
  {
   "cell_type": "code",
   "execution_count": null,
   "id": "0731e08a",
   "metadata": {},
   "outputs": [],
   "source": [
    "val inputPort = 3\n",
    "val outputPort = 2\n",
    "val dataWidth = 32\n",
    "\n",
    "//Initialize the top block.\n",
    "val arch = new ArchitectureHierarchy()\n",
    "arch.addInPorts((0 until inputPort).map(i => s\"input_$i\").toArray)\n",
    "arch.addOutPorts((0 until outputPort).map(i => s\"out_$i\").toArray)\n",
    "val block = new NestBlock(\"Block0\", isRegion = true)\n",
    "arch.addBlock(block)\n",
    "\n",
    "val block1 = new SimpleBlock(\"Block1\", isRegion = true)\n",
    "arch.addBlock(block1)\n",
    "\n",
    "arch.addConnect(arch.term(s\"input_0\") -> block / s\"input_0\")\n",
    "arch.addConnect(arch.term(s\"input_1\") -> block / s\"input_1\")\n",
    "arch.addConnect(block / s\"out_0\" -> block1 / s\"input_0\")\n",
    "arch.addConnect(arch.term(s\"input_2\") -> block1 / s\"input_1\")\n",
    "arch.addConnect(block / s\"out_0\" -> arch.term(s\"out_0\"))\n",
    "arch.addConnect(block1 / s\"out_0\" -> arch.term(s\"out_1\"))\n",
    "\n",
    "arch.init()"
   ]
  },
  {
   "cell_type": "markdown",
   "id": "a2865980",
   "metadata": {},
   "source": [
    "### Step3: Generate the hardware."
   ]
  },
  {
   "cell_type": "code",
   "execution_count": null,
   "id": "5d6a890b",
   "metadata": {},
   "outputs": [],
   "source": [
    "val connect = new Connect(arch.connectArray)\n",
    "val hardwareGenerator = new HardwareGenerator(arch, connect)\n",
    "val topDesign = () => new TopModule(hardwareGenerator.pillarsModuleInfo,\n",
    "    hardwareGenerator.connectMap, hardwareGenerator.regionList, dataWidth)\n",
    "    \n",
    "visualize(topDesign)"
   ]
  },
  {
   "cell_type": "markdown",
   "id": "a2997660",
   "metadata": {},
   "source": [
    "## `Example3`: Use block library to create a CGRA"
   ]
  },
  {
   "cell_type": "code",
   "execution_count": null,
   "id": "a640e685",
   "metadata": {},
   "outputs": [],
   "source": [
    "val rowNum = 2\n",
    "val colNum = 2\n",
    "val inputPort = 2\n",
    "val outputPort = 1\n",
    "val dataWidth = 32\n",
    "\n",
    "//Initialize the top block.\n",
    "val arch = new ArchitectureHierarchy()\n",
    "arch.addInPorts((0 until inputPort).map(i => s\"input_$i\").toArray)\n",
    "arch.addOutPorts((0 until outputPort).map(i => s\"out_$i\").toArray)\n",
    "\n",
    "val tile = new TileLSUBlock(\"tile_0\", colNum, rowNum, inputPort, outputPort,\n",
    "  useMuxBypass = false, complex = true, isToroid = false, useCounter = true, dataWidth = dataWidth)\n",
    "arch.addBlock(tile)\n",
    "\n",
    "(0 until inputPort).foreach(i =>\n",
    "    arch.addConnect(arch.term(s\"input_$i\") -> tile / s\"input_$i\"))\n",
    "(0 until outputPort).foreach(i =>\n",
    "    arch.addConnect(tile / s\"out_$i\" -> arch.term(s\"out_$i\")))\n",
    "arch.init()\n",
    "\n",
    "val connect = new Connect(arch.connectArray)\n",
    "val hardwareGenerator = new HardwareGenerator(arch, connect)\n",
    "val topDesign = () => new TopModule(hardwareGenerator.pillarsModuleInfo,\n",
    "  hardwareGenerator.connectMap, hardwareGenerator.regionList, dataWidth)\n",
    "\n",
    "visualize(topDesign)"
   ]
  }
 ],
 "metadata": {
  "kernelspec": {
   "display_name": "Scala",
   "language": "scala",
   "name": "scala"
  },
  "language_info": {
   "codemirror_mode": "text/x-scala",
   "file_extension": ".sc",
   "mimetype": "text/x-scala",
   "name": "scala",
   "nbconvert_exporter": "script",
   "version": "2.12.12"
  }
 },
 "nbformat": 4,
 "nbformat_minor": 5
}
