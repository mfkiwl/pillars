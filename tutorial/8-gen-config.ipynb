{
 "cells": [
  {
   "attachments": {},
   "cell_type": "markdown",
   "id": "bcee53ff",
   "metadata": {},
   "source": [
    "# Generation of Configuration"
   ]
  },
  {
   "attachments": {},
   "cell_type": "markdown",
   "id": "95e95077",
   "metadata": {
    "notebookRunGroups": {
     "groupValue": "1"
    }
   },
   "source": [
    "## Setup"
   ]
  },
  {
   "cell_type": "code",
   "execution_count": null,
   "id": "b0f87c36",
   "metadata": {},
   "outputs": [],
   "source": [
    "val ivy_path = System.getProperty(\"user.dir\") + \"/load-ivy.sc\"\n",
    "interp.load.module(ammonite.ops.Path(java.nio.file.FileSystems.getDefault().getPath(ivy_path)))"
   ]
  },
  {
   "cell_type": "code",
   "execution_count": null,
   "id": "8fc44864",
   "metadata": {},
   "outputs": [],
   "source": [
    "import pillars.core._\n",
    "import pillars.mapping.thirdParty._\n",
    "import pillars.archlib.TileLSUBlock\n",
    "import pillars.hardware.{TopModule}\n",
    "import pillars.archlib._\n",
    "import pillars.core.{BlockTrait, OpEnum}\n",
    "import pillars.core.OpEnum.OpEnum\n",
    "import pillars.mapping.{DFG, DotReader, ILPMap, OmtMap, SearchMap}\n",
    "import pillars.testers.{AppTestHelper, ApplicationTester}\n",
    "import scala.util.Random\n",
    "import java.lang.Math"
   ]
  },
  {
   "attachments": {},
   "cell_type": "markdown",
   "id": "13000c8f",
   "metadata": {},
   "source": [
    "## Initialize a simple CGRA"
   ]
  },
  {
   "cell_type": "code",
   "execution_count": null,
   "id": "6d1ed682",
   "metadata": {},
   "outputs": [],
   "source": [
    "class SimpleBlockWithReg(name: String, isRegion: Boolean = false) extends BlockTrait {\n",
    "    initName(name)\n",
    "    addInPorts(Array(\"input_0\",\"input_1\"))\n",
    "    addOutPorts(Array(\"out_0\"))\n",
    "    \n",
    "    if(isRegion){\n",
    "        setConfigRegion()\n",
    "    }\n",
    "    \n",
    "    // Initialize ALU supporting ADD/SUB\n",
    "    val aluOpList = List(OpEnum.ADD, OpEnum.SUB)\n",
    "    val supBypass = false \n",
    "    val aluParams = List(32) // 32 bit width\n",
    "    val alu0 = new ElementAlu(name+\"_ALU\", aluOpList, supBypass, List(32))\n",
    "    alu0.addInPorts(Array(\"input_A\", \"input_B\"))\n",
    "    alu0.addOutPorts(Array(\"out_0\"))\n",
    "    addElement(alu0)\n",
    "\n",
    "    // A register file with 2 registers \n",
    "    val rf0 = new ElementRF(\"rf0\", List(1, 1, 1, 32))\n",
    "    //port sequnces outs: 0: out_0\n",
    "    //port sequnces inputs: 0: input_0\n",
    "    rf0.addOutPorts(Array(\"out_0\"))\n",
    "    rf0.addInPorts(Array(\"input_0\"))\n",
    "    addElement(rf0)\n",
    "    \n",
    "    // Initialize internal connections\n",
    "    addConnect(term(\"input_0\") -> alu0 / \"input_A\")\n",
    "    addConnect(term(\"input_1\") -> alu0 / \"input_B\")\n",
    "    addConnect(alu0 / \"out_0\" -> rf0 / \"input_0\")\n",
    "    addConnect(rf0 / \"out_0\" -> term(\"out_0\"))\n",
    "}"
   ]
  },
  {
   "cell_type": "code",
   "execution_count": null,
   "id": "709c3c72",
   "metadata": {},
   "outputs": [],
   "source": [
    "val inputPort = 2\n",
    "val outputPort = 1\n",
    "val dataWidth = 32\n",
    "\n",
    "//Initialize the top block.\n",
    "val arch = new ArchitectureHierarchy()\n",
    "arch.addInPorts((0 until inputPort).map(i => s\"input_$i\").toArray)\n",
    "arch.addOutPorts((0 until outputPort).map(i => s\"out_$i\").toArray)\n",
    "\n",
    "val block = new SimpleBlockWithReg(\"Block0\")\n",
    "arch.addBlock(block)\n",
    "\n",
    "(0 until inputPort).foreach(i =>\n",
    "    arch.addConnect(arch.term(s\"input_$i\") -> block / s\"input_$i\"))\n",
    "(0 until outputPort).foreach(i =>\n",
    "    arch.addConnect(block / s\"out_$i\" -> arch.term(s\"out_$i\")))\n",
    "arch.init()"
   ]
  },
  {
   "attachments": {},
   "cell_type": "markdown",
   "id": "41ad1682",
   "metadata": {},
   "source": [
    "## Prepare a runtime infomation file for the simple Add DFG.\n",
    "Some values can be customized:\n",
    "1. The input data for an \"input\" op.\n",
    "2. The expected data for a \"output\" op.\n",
    "3. The const values for an \"const\" op.\n",
    "4. The initial/step/end/freq values for a \"incr\" op to guide a loop.\n",
    "5. The data stored in a SRAM before the CGRA starts.\n",
    "6. The expected data in a SRAM after the CGRA stops."
   ]
  },
  {
   "cell_type": "code",
   "execution_count": null,
   "id": "244f439f",
   "metadata": {},
   "outputs": [],
   "source": [
    "def prepareRuntimeInfoAdd(dfg: DFG) = {\n",
    "    val dataSize = 10\n",
    "    val A = (0 until dataSize).map(i => i).toList\n",
    "    val B = (0 until dataSize).map(i => i).toList\n",
    "    val expectedRet = (0 until dataSize).map(i => A(i) + B(i))\n",
    "\n",
    "    // Please make sure there are 2 operators with INPUT opcode in the DFG.\n",
    "    val inputOpNames = dfg.opNodes.filter(op => op.opcode == OpEnum.INPUT).map(op => op.name)\n",
    "    val inputToPort = List(InputToPort(inputOpNames(0), A), InputToPort(inputOpNames(1), B))\n",
    "\n",
    "    val outputOpNames = dfg.opNodes.filter(op => op.opcode == OpEnum.OUTPUT).map(op => op.name)\n",
    "    val outputFromPort = List(OutputFromPort(outputOpNames(0), expectedRet.toList))\n",
    "\n",
    "    val emptyList = List()\n",
    "\n",
    "    val runtimeInfo = RuntimeInfo(inputToPort, outputFromPort, emptyList\n",
    "      , emptyList, emptyList, emptyList)\n",
    "\n",
    "    runtimeInfo\n",
    "}\n",
    "\n",
    "viewDFG(\"./Add.dot.jpg\")\n",
    "val dfgFilename = \"./Add.dot\"\n",
    "val II = 2\n",
    "val dfg = DotReader.loadDot(dfgFilename, II)\n",
    "prepareRuntimeInfoAdd(dfg)\n",
    "JsonParser.writeJson(prepareRuntimeInfoAdd(dfg), \"runtime.json\")\n",
    "val runtimeInfo = JsonParser.readJson(\"runtime.json\", print = true)"
   ]
  },
  {
   "attachments": {},
   "cell_type": "markdown",
   "id": "69065c88",
   "metadata": {},
   "source": [
    "## Use some helpful classes to initialize configs from mapping results"
   ]
  },
  {
   "cell_type": "code",
   "execution_count": null,
   "id": "0b610d51",
   "metadata": {},
   "outputs": [],
   "source": [
    "// Simulation settings.\n",
    "val simulationHelper = new SimulationHelper(arch)\n",
    "val resultFilename = s\"Add_ii$II\" + \"_r.txt\"\n",
    "simulationHelper.init(resultFilename, runtimeInfo, II, print = true)\n",
    "\n",
    "val appTestHelper = new AppTestHelper(II)\n",
    "val moduleInfoFilename = s\"Add_ii$II\" + \"_i.txt\"\n",
    "appTestHelper.init(arch, simulationHelper, moduleInfoFilename, runtimeInfo, print = true)"
   ]
  },
  {
   "attachments": {},
   "cell_type": "markdown",
   "id": "a33487d3",
   "metadata": {},
   "source": [
    "## Generate configs from the mapping results between the Vadd-Reverse DFG and the 4X4 TileLSUBlock in library"
   ]
  },
  {
   "cell_type": "code",
   "execution_count": null,
   "id": "00d978f4",
   "metadata": {},
   "outputs": [],
   "source": [
    "val rowNum = 4\n",
    "val colNum = 4\n",
    "val inputPort = 4\n",
    "val outputPort = 4\n",
    "val dataWidth = 32\n",
    "\n",
    "// Initialize the top block.\n",
    "val arch = new ArchitectureHierarchy()\n",
    "arch.addInPorts((0 until inputPort).map(i => s\"input_$i\").toArray)\n",
    "arch.addOutPorts((0 until outputPort).map(i => s\"out_$i\").toArray)\n",
    "\n",
    "val tile = new TileLSUBlock(\"tile_0\", colNum, rowNum, inputPort, outputPort,\n",
    "    useMuxBypass = false, complex = true, isToroid = false, useCounter = true, dataWidth = dataWidth)\n",
    "arch.addBlock(tile)\n",
    "\n",
    "(0 until inputPort).foreach(i =>\n",
    "    arch.addConnect(arch.term(s\"input_$i\") -> tile / s\"input_$i\"))\n",
    "(0 until outputPort).foreach(i =>\n",
    "    arch.addConnect(tile / s\"out_$i\" -> arch.term(s\"out_$i\")))\n",
    "arch.init()"
   ]
  },
  {
   "cell_type": "code",
   "execution_count": null,
   "id": "bcb0df34",
   "metadata": {},
   "outputs": [],
   "source": [
    "def prepareRuntimeInfo(dfg: DFG, numSRAM: Int) = {\n",
    "  val dataSize = 50\n",
    "  val VectorA = (0 until dataSize).map(_ => Math.abs(scala.util.Random.nextInt() % 1000)).toArray\n",
    "  val VectorB = (0 until dataSize).map(_ => Math.abs(scala.util.Random.nextInt() % 1000)).toArray\n",
    "\n",
    "  // Input random indexes into the mapped input port in CGRA,\n",
    "  // and get A(index) + B(index) from the mapped output port.\n",
    "  val inputIndexes = Random.shuffle((0 until dataSize).toList)\n",
    "  val expectedRet = (0 until dataSize).map(i => VectorA(inputIndexes(i)) + VectorB(inputIndexes(i)))\n",
    "\n",
    "  // The base address of A and B in SRAM of an LSU.\n",
    "  // To simplify the problem, we assume both A and B are stored\n",
    "  // in all SRAMs belonging to 4 LSUs in the targeted architecture.\n",
    "  val a_base = 0\n",
    "  val b_base = dataSize\n",
    "\n",
    "  // The value of const operators.\n",
    "  val const0 = a_base\n",
    "  val const1 = b_base\n",
    "  val const2 = dataSize - 1\n",
    "  val const3 = a_base\n",
    "  val const4 = a_base\n",
    "  val constVals = Array(const0, const1, const2, const3, const4)\n",
    "\n",
    "  val constOpNames = dfg.opNodes.filter(op => op.opcode == OpEnum.CONST).map(op => op.name)\n",
    "  val constValue = (0 until constOpNames.size).map(i => ConstValue(constOpNames(i), constVals(i))).toList\n",
    "\n",
    "  // Operator incr0 should generate (j <- 0 until dataSize).\n",
    "  // So the parameter of the counter is (init = 0, step = 1, end = dataSize, freq = 1)\n",
    "  val counterOpNames = dfg.opNodes.filter(op => op.opcode == OpEnum.INCR).map(op => op.name)\n",
    "  val counterConfig = List(CounterConfig(counterOpNames(0), 0, 1, dataSize, 1))\n",
    "\n",
    "  // In this simple tutorial, A and B are put into all LSUs.\n",
    "  // But you can put them into partial LSUs according to the mapping results,\n",
    "  // just like what in the ApplicationExamples.\n",
    "  // Because the PEs in a row share an LSU, the number of LSUs is rowNum.\n",
    "  val inputToSRAM = (0 until numSRAM).map(i => InputToSRAM(i, a_base, VectorA.toList)).toList :::\n",
    "  (0 until numSRAM).map(i => InputToSRAM(i, b_base, VectorB.toList)).toList\n",
    "\n",
    "  val outputFromSRAM = List(OutputFromSRAM(3, a_base, VectorA.reverse.toList))\n",
    "\n",
    "  // Please make sure there are 2 operators with INPUT opcode in the DFG.\n",
    "  val inputOpNames = dfg.opNodes.filter(op => op.opcode == OpEnum.INPUT).map(op => op.name)\n",
    "  // val inputToPortData = List(inputI, inputJ)\n",
    "  // val inputToPort = (0 until inputOpNames.size).map(i => InputToPort(inputOpNames(i),\n",
    "  //     inputToPortData(i).toList)).toList\n",
    "  val inputToPort = List(InputToPort(inputOpNames(0),\n",
    "    inputIndexes))\n",
    "\n",
    "  val outputOpNames = dfg.opNodes.filter(op => op.opcode == OpEnum.OUTPUT).map(op => op.name)\n",
    "  // val outputFromPort = List(OutputFromPort(outputOpNames(0), outResult.toList))\n",
    "  val outputFromPort = List(OutputFromPort(outputOpNames(0), expectedRet.toList))\n",
    "\n",
    "  val runtimeInfo = RuntimeInfo(inputToPort, outputFromPort, inputToSRAM\n",
    "    , outputFromSRAM, constValue, counterConfig)\n",
    "\n",
    "  runtimeInfo\n",
    "}\n",
    "    \n",
    "val II = 1\n",
    "val dfgFilename = \"Vadd_Reverse_.dot\"\n",
    "val dfg = DotReader.loadDot(dfgFilename, II)\n",
    "\n",
    "viewDFG(\"./Vadd_Reverse_.dot.jpg\")\n",
    "JsonParser.writeJson(prepareRuntimeInfo(dfg, rowNum), \"runtime.json\")\n",
    "val runtimeInfo = JsonParser.readJson(\"runtime.json\", print = true)\n",
    "\n",
    "// Simulation settings.\n",
    "val simulationHelper = new SimulationHelper(arch)\n",
    "val resultFilename = s\"ii$II\" + \"_r.txt\"\n",
    "simulationHelper.init(resultFilename, runtimeInfo, II, print = true)\n",
    "\n",
    "val appTestHelper = new AppTestHelper(II)\n",
    "val moduleInfoFilename = s\"ii$II\" + \"_i.txt\"\n",
    "appTestHelper.init(arch, simulationHelper, moduleInfoFilename, runtimeInfo, print = true)"
   ]
  }
 ],
 "metadata": {
  "kernelspec": {
   "display_name": "Scala",
   "language": "scala",
   "name": "scala"
  },
  "language_info": {
   "codemirror_mode": "text/x-scala",
   "file_extension": ".sc",
   "mimetype": "text/x-scala",
   "name": "scala",
   "nbconvert_exporter": "script",
   "version": "2.12.10"
  }
 },
 "nbformat": 4,
 "nbformat_minor": 5
}
