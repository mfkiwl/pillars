{
 "cells": [
  {
   "cell_type": "markdown",
   "id": "bcee53ff",
   "metadata": {},
   "source": [
    "# Generation of Configuration"
   ]
  },
  {
   "cell_type": "code",
   "execution_count": null,
   "id": "b0f87c36",
   "metadata": {},
   "outputs": [],
   "source": []
  }
 ],
 "metadata": {
  "kernelspec": {
   "display_name": "Scala",
   "language": "scala",
   "name": "scala"
  },
  "language_info": {
   "codemirror_mode": "text/x-scala",
   "file_extension": ".scala",
   "mimetype": "text/x-scala",
   "name": "scala",
   "nbconvert_exporter": "script",
   "version": "2.12.10"
  }
 },
 "nbformat": 4,
 "nbformat_minor": 5
}
