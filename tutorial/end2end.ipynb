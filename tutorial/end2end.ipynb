{
 "cells": [
  {
   "cell_type": "markdown",
   "id": "309191d4",
   "metadata": {},
   "source": [
    "Build (or rebuild) the ``pillars`` package. Run this cell **ONLY WHEN** the local package is out-of-date."
   ]
  },
  {
   "cell_type": "code",
   "execution_count": null,
   "id": "59de40d9",
   "metadata": {},
   "outputs": [],
   "source": [
    "//sys.process.stringToProcess(\"make -C .. build\").!"
   ]
  },
  {
   "cell_type": "markdown",
   "id": "f05dcc4e",
   "metadata": {},
   "source": [
    "Load the library dependencies (see ``load-ivy.sc`` for details)."
   ]
  },
  {
   "cell_type": "code",
   "execution_count": null,
   "id": "8f5ad382",
   "metadata": {},
   "outputs": [],
   "source": [
    "val ivy_path = System.getProperty(\"user.dir\") + \"/load-ivy.sc\"\n",
    "interp.load.module(ammonite.ops.Path(java.nio.file.FileSystems.getDefault().getPath(ivy_path)))"
   ]
  },
  {
   "cell_type": "markdown",
   "id": "afa80ef8",
   "metadata": {},
   "source": [
    "A example for testing a 2×2 TileBlock with 2 input ports and 1 output port."
   ]
  },
  {
   "cell_type": "code",
   "execution_count": null,
   "id": "55ee942e",
   "metadata": {},
   "outputs": [],
   "source": [
    "import chisel3.iotesters\n",
    "import tetriski.pillars.core.{ArchitectureHierarchy, Connect, ConstInfo, HardwareGenerator}\n",
    "import tetriski.pillars.archlib.TileBlock\n",
    "import tetriski.pillars.hardware.TopModule\n",
    "import tetriski.pillars.testers.TopModuleAdresUnitTest\n",
    "\n",
    "/** A example for testing a 2*2 TileBlock with 2 input ports and 1 output port.\n",
    " * \"internalNodeinfo_simple.txt\" is a pre-generated information TXT\n",
    " * when mapping a simple DFG with add and mul.\n",
    " */\n",
    "def exampleAdres(): Unit = {\n",
    "    val arch = new ArchitectureHierarchy()\n",
    "    //The order of ports should be same as TopModule\n",
    "    arch.addOutPorts(Array(\"output\"))\n",
    "    arch.addInPorts(Array(\"input_0\", \"input_1\"))\n",
    "\n",
    "    val dataWidth = 32\n",
    "    val tile = new TileBlock(\"tile_0\", 2, 2, 2, 1, dataWidth = dataWidth)\n",
    "\n",
    "    arch.addBlock(tile)\n",
    "\n",
    "    arch.addConnect(List(List(\"input_0\"), List(\"tile_0/\", \"input_0\")))\n",
    "    arch.addConnect(List(List(\"input_1\"), List(\"tile_0/\", \"input_1\")))\n",
    "    arch.addConnect(List(List(\"tile_0/\", \"out_0\"), List(\"output\")))\n",
    "\n",
    "    arch.init()\n",
    "\n",
    "    arch.blockMap(\"tile_0\").dumpMRRG(1)\n",
    "\n",
    "    arch.dumpArchitecture()\n",
    "\n",
    "    val connectArray = arch.connectArray\n",
    "\n",
    "    val connect = new Connect(connectArray)\n",
    "\n",
    "    connect.dumpConnect()\n",
    "\n",
    "    val hardwareGenerator = new HardwareGenerator(arch, connect)\n",
    "\n",
    "    // Verilog generation\n",
    "    chisel3.Driver.execute(Array(\"--no-check-comb-loops\", \"-td\", \"ADRESv0\"),\n",
    "      () => new TopModule(hardwareGenerator.pillarsModuleInfo,\n",
    "      hardwareGenerator.connectMap, hardwareGenerator.regionList, dataWidth))\n",
    "\n",
    "    val constInfo = new ConstInfo(1)\n",
    "    constInfo.addConfig(arch(\"tile_0\")(\"pe_0_0\").getElement(\"const0\").getModuleID(), 0, 4)\n",
    "    constInfo.addConfig(arch(\"tile_0\")(\"pe_1_0\").getElement(\"const0\").getModuleID(), 0, 5)\n",
    "\n",
    "    val bitStreams = arch.genConfig(\"app-mapping-results/hardware-test/internalNodeinfo_simple.txt\",\n",
    "        1, constInfo)\n",
    "\n",
    "    val bitStream = bitStreams(0)\n",
    "\n",
    "    // Run tester\n",
    "    iotesters.Driver.execute(Array(\"--no-check-comb-loops\", \"-tgvo\", \"on\", \"-tbn\", \"verilator\"),\n",
    "      () => new TopModule(hardwareGenerator.pillarsModuleInfo,\n",
    "      hardwareGenerator.connectMap, hardwareGenerator.regionList, dataWidth)) {\n",
    "        c => new TopModuleAdresUnitTest(c, bitStream)\n",
    "    }\n",
    "}\n",
    "\n",
    "// executing ``exampleAdres()`` will fail due to the dollar ($) sign in Ammonite's temporary naming\n",
    "tetriski.pillars.examples.HardwareExamples.exampleAdres()"
   ]
  }
 ],
 "metadata": {
  "kernelspec": {
   "display_name": "Scala",
   "language": "scala",
   "name": "scala"
  },
  "language_info": {
   "codemirror_mode": "text/x-scala",
   "file_extension": ".scala",
   "mimetype": "text/x-scala",
   "name": "scala",
   "nbconvert_exporter": "script",
   "version": "2.12.10"
  }
 },
 "nbformat": 4,
 "nbformat_minor": 5
}
