{
 "cells": [
  {
   "cell_type": "markdown",
   "id": "b9e1e2ad",
   "metadata": {},
   "source": [
    "## Introduction of coarse-grained reconfigurable array (CGRA)\n",
    "CGRA is a class of reconfigurable architecture that provides word-level granularity in a reconfigurable array to overcome some of the disadvantages of FPGAs.\n",
    "CGRAs provide the capability for spatial, temporal and parallel computation, and hence can outperform common computing systems in many applications."
   ]
  },
  {
   "cell_type": "markdown",
   "id": "3d3f3fd6",
   "metadata": {},
   "source": [
    "This CGRA can perform correct behavior during reconfiguration under the guide of configurations.\n",
    "The configurations is produced by mapping between applications and representations modeling the architecture.\n",
    "The following are key processes to design, explore and verify a CGRA:\n",
    "* [Describe the architecture](3-desc-arch.ipynb)\n",
    "* [Describe the application kernel](4-desc-krnl.ipynb)\n",
    "* [Get the RTL of hardware](5-gen-hardware.ipynb)\n",
    "* [Get the mapping model of architecture](6-gen-mrrg.ipynb)\n",
    "* [Solve the kernel mapping problem](7-map-mrrg.ipynb)\n",
    "* [Get the configurations](8-gen-config.ipynb)\n",
    "* [Run cycle-accurate simulation](9-simulation.ipynb)"
   ]
  },
  {
   "cell_type": "markdown",
   "id": "f24470ad",
   "metadata": {},
   "source": [
    "To address the problems of these key processes and overcome the shortages of exsiting CGRA study frameworks, we develop Pillars.\n",
    "We are aimed to assist in design space exploration and hardware optimization of CGRAs.\n",
    "Compared with [CGRA-ME](https://cgra-me.ece.utoronto.ca/), a previously most influential CGRA framework, Pillars has several noteworthy benefits:\n",
    "* Low-barrier ADL (architecture design language) for architecture designers.\n",
    "* More stable and reliable RTL generation.\n",
    "* High-quality architecture intermediate representation.\n",
    "* Complete toolchain support for temporal-spacial reconfiguration.\n",
    "* Well-developed and easy-to-use simulation infrastructure.\n"
   ]
  },
  {
   "cell_type": "markdown",
   "id": "b1465bda",
   "metadata": {},
   "source": [
    "![](Pillars-vs-CGRAME.png)"
   ]
  }
 ],
 "metadata": {
  "kernelspec": {
   "display_name": "Scala",
   "language": "scala",
   "name": "scala"
  },
  "language_info": {
   "codemirror_mode": "text/x-scala",
   "file_extension": ".scala",
   "mimetype": "text/x-scala",
   "name": "scala",
   "nbconvert_exporter": "script",
   "version": "2.12.10"
  }
 },
 "nbformat": 4,
 "nbformat_minor": 5
}
