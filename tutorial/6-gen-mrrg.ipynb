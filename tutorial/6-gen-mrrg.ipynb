{
 "cells": [
  {
   "cell_type": "markdown",
   "id": "adb720dc",
   "metadata": {},
   "source": [
    "# Generation of Mapping Model (MRRG)"
   ]
  },
  {
   "cell_type": "markdown",
   "id": "54df53bb",
   "metadata": {},
   "source": [
    "## Setup"
   ]
  },
  {
   "cell_type": "code",
   "execution_count": null,
   "id": "dce05213",
   "metadata": {},
   "outputs": [],
   "source": [
    "val ivy_path = System.getProperty(\"user.dir\") + \"/load-ivy.sc\"\n",
    "interp.load.module(ammonite.ops.Path(java.nio.file.FileSystems.getDefault().getPath(ivy_path)))"
   ]
  },
  {
   "cell_type": "code",
   "execution_count": null,
   "id": "1ad27030",
   "metadata": {},
   "outputs": [],
   "source": [
    "import pillars.core._\n",
    "import pillars.hardware.{TopModule}\n",
    "import pillars.archlib._\n",
    "import pillars.core.{BlockTrait, OpEnum}\n",
    "import pillars.core.OpEnum.OpEnum\n",
    "import pillars.mapping.thirdParty._"
   ]
  },
  {
   "cell_type": "markdown",
   "id": "b50211ad",
   "metadata": {},
   "source": [
    "## Create a simple block"
   ]
  },
  {
   "cell_type": "code",
   "execution_count": null,
   "id": "7fa72e6a",
   "metadata": {},
   "outputs": [],
   "source": [
    "class SimpleBlock(name: String, isRegion: Boolean = false) extends BlockTrait {\n",
    "    initName(name)\n",
    "    addInPorts(Array(\"input_0\",\"input_1\"))\n",
    "    addOutPorts(Array(\"out_0\"))\n",
    "    \n",
    "    if(isRegion){\n",
    "        setConfigRegion()\n",
    "    }\n",
    "    \n",
    "    // Initialize ALU supporting ADD/SUB\n",
    "    val aluOpList = List(OpEnum.ADD, OpEnum.SUB)\n",
    "    val supBypass = false \n",
    "    val aluParams = List(32) // 32 bit width\n",
    "    val alu0 = new ElementAlu(name+\"_ALU\", aluOpList, supBypass, List(32))\n",
    "    alu0.addInPorts(Array(\"input_A\", \"input_B\"))\n",
    "    alu0.addOutPorts(Array(\"out_0\"))\n",
    "    addElement(alu0)\n",
    "    \n",
    "    // Initialize internal connections\n",
    "    addConnect(term(\"input_0\") -> alu0 / \"input_A\")\n",
    "    addConnect(term(\"input_1\") -> alu0 / \"input_B\")\n",
    "    addConnect(alu0 / \"out_0\" -> term(\"out_0\"))\n",
    "}"
   ]
  },
  {
   "cell_type": "markdown",
   "id": "61316385",
   "metadata": {},
   "source": [
    "## Get the mapping model: module routing resource graph (MRRG)\n",
    "Box node: processing node for performing operators.\n",
    "\n",
    "Circle node: routing node for routing values."
   ]
  },
  {
   "cell_type": "code",
   "execution_count": null,
   "id": "eba64f0e",
   "metadata": {},
   "outputs": [],
   "source": [
    "val inputPort = 2\n",
    "val outputPort = 1\n",
    "val dataWidth = 32\n",
    "\n",
    "//Initialize the top block.\n",
    "val arch = new ArchitectureHierarchy()\n",
    "arch.addInPorts((0 until inputPort).map(i => s\"input_$i\").toArray)\n",
    "arch.addOutPorts((0 until outputPort).map(i => s\"out_$i\").toArray)\n",
    "\n",
    "val block = new SimpleBlock(\"Block0\")\n",
    "arch.addBlock(block)\n",
    "\n",
    "(0 until inputPort).foreach(i =>\n",
    "    arch.addConnect(arch.term(s\"input_$i\") -> block / s\"input_$i\"))\n",
    "(0 until outputPort).foreach(i =>\n",
    "    arch.addConnect(block / s\"out_$i\" -> arch.term(s\"out_$i\")))\n",
    "arch.init()\n",
    "\n",
    "val II = 1\n",
    "val MRRG = arch.getMRRG(II)\n",
    "var VizGraph = MRRG.GenGraph(\"Simple\")\n",
    "VizGraph.save(\"MRRG_simple\", \".\")\n",
    "VizGraph.render(fileName = \"MRRG_simple\", directory = \".\", format = \"jpg\")\n",
    "viewDFG(\"./MRRG_simple.jpg\")"
   ]
  },
  {
   "cell_type": "markdown",
   "id": "f4e11ae2",
   "metadata": {},
   "source": [
    "## Get MRRG when initiation interval (II) = 2\n",
    "To simplify the simulation flow, we set the input port can only transmit data at reconfiguration cycle 0."
   ]
  },
  {
   "cell_type": "code",
   "execution_count": null,
   "id": "29f76c6d",
   "metadata": {},
   "outputs": [],
   "source": [
    "val II = 2\n",
    "val MRRG = arch.getMRRG(II)\n",
    "var VizGraph = MRRG.GenGraph(\"Simple\")\n",
    "VizGraph.save(\"MRRG_simple_II2\", \".\")\n",
    "VizGraph.render(fileName = \"MRRG_simple_II2\", directory = \".\", format = \"jpg\")\n",
    "viewDFG(\"./MRRG_simple_II2.jpg\")"
   ]
  },
  {
   "cell_type": "markdown",
   "id": "83f7c7b8",
   "metadata": {},
   "source": [
    "## Create a block with register files"
   ]
  },
  {
   "cell_type": "code",
   "execution_count": null,
   "id": "c077a909",
   "metadata": {},
   "outputs": [],
   "source": [
    "class SimpleBlockWithReg(name: String, isRegion: Boolean = false) extends BlockTrait {\n",
    "    initName(name)\n",
    "    addInPorts(Array(\"input_0\",\"input_1\"))\n",
    "    addOutPorts(Array(\"out_0\"))\n",
    "    \n",
    "    if(isRegion){\n",
    "        setConfigRegion()\n",
    "    }\n",
    "    \n",
    "    // Initialize ALU supporting ADD/SUB\n",
    "    val aluOpList = List(OpEnum.ADD, OpEnum.SUB)\n",
    "    val supBypass = false \n",
    "    val aluParams = List(32) // 32 bit width\n",
    "    val alu0 = new ElementAlu(name+\"_ALU\", aluOpList, supBypass, List(32))\n",
    "    alu0.addInPorts(Array(\"input_A\", \"input_B\"))\n",
    "    alu0.addOutPorts(Array(\"out_0\"))\n",
    "    addElement(alu0)\n",
    "\n",
    "    // A register file with 2 registers \n",
    "    val rf0 = new ElementRF(\"rf0\", List(1, 1, 1, 32))\n",
    "    //port sequnces outs: 0: out_0\n",
    "    //port sequnces inputs: 0: input_0\n",
    "    rf0.addOutPorts(Array(\"out_0\"))\n",
    "    rf0.addInPorts(Array(\"input_0\"))\n",
    "    addElement(rf0)\n",
    "    \n",
    "    // Initialize internal connections\n",
    "    addConnect(term(\"input_0\") -> alu0 / \"input_A\")\n",
    "    addConnect(term(\"input_1\") -> alu0 / \"input_B\")\n",
    "    addConnect(alu0 / \"out_0\" -> rf0 / \"input_0\")\n",
    "    addConnect(rf0 / \"out_0\" -> term(\"out_0\"))\n",
    "}"
   ]
  },
  {
   "cell_type": "markdown",
   "id": "2589e678",
   "metadata": {},
   "source": [
    "## Get MRRG \n",
    "Due to the bug of Graphviz, the name of MRRG nodes are changed in examples of this tutorial."
   ]
  },
  {
   "cell_type": "code",
   "execution_count": null,
   "id": "90075317",
   "metadata": {},
   "outputs": [],
   "source": [
    "val inputPort = 2\n",
    "val outputPort = 1\n",
    "val dataWidth = 32\n",
    "\n",
    "//Initialize the top block.\n",
    "val arch = new ArchitectureHierarchy()\n",
    "arch.addInPorts((0 until inputPort).map(i => s\"input_$i\").toArray)\n",
    "arch.addOutPorts((0 until outputPort).map(i => s\"out_$i\").toArray)\n",
    "\n",
    "val block = new SimpleBlockWithReg(\"Block0\")\n",
    "arch.addBlock(block)\n",
    "\n",
    "(0 until inputPort).foreach(i =>\n",
    "    arch.addConnect(arch.term(s\"input_$i\") -> block / s\"input_$i\"))\n",
    "(0 until outputPort).foreach(i =>\n",
    "    arch.addConnect(block / s\"out_$i\" -> arch.term(s\"out_$i\")))\n",
    "arch.init()\n",
    "\n",
    "val II = 1\n",
    "val MRRG = arch.getMRRG(II)\n",
    "var VizGraph = MRRG.GenGraph(\"Simple_Reg\")\n",
    "VizGraph.save(\"MRRG_simple_Reg\", \".\")\n",
    "VizGraph.render(fileName = \"MRRG_simple_Reg\", directory = \".\", format = \"jpg\")\n",
    "viewDFG(\"./MRRG_simple_Reg.jpg\")"
   ]
  },
  {
   "cell_type": "markdown",
   "id": "60972365",
   "metadata": {},
   "source": [
    "## Get MRRG when initiation interval (II) = 2"
   ]
  },
  {
   "cell_type": "code",
   "execution_count": null,
   "id": "6bacdd7c",
   "metadata": {},
   "outputs": [],
   "source": [
    "val II = 2\n",
    "val MRRG = arch.getMRRG(II)\n",
    "var VizGraph = MRRG.GenGraph(\"Simple_II2_Reg\")\n",
    "VizGraph.save(\"MRRG_simple_II2_Reg\", \".\")\n",
    "VizGraph.render(fileName = \"MRRG_simple_II2_Reg\", directory = \".\", format = \"jpg\")\n",
    "viewDFG(\"./MRRG_simple_II2_Reg.jpg\")"
   ]
  },
  {
   "cell_type": "markdown",
   "id": "db903f80",
   "metadata": {},
   "source": [
    "## Use block library to create a simple CGRA and get MRRG"
   ]
  },
  {
   "cell_type": "code",
   "execution_count": null,
   "id": "95d2b892",
   "metadata": {},
   "outputs": [],
   "source": [
    "val rowNum = 2\n",
    "val colNum = 2\n",
    "val inputPort = 1\n",
    "val outputPort = 1\n",
    "val dataWidth = 32\n",
    "\n",
    "//Initialize the top block.\n",
    "val arch = new ArchitectureHierarchy()\n",
    "arch.addInPorts((0 until inputPort).map(i => s\"input_$i\").toArray)\n",
    "arch.addOutPorts((0 until outputPort).map(i => s\"out_$i\").toArray)\n",
    "\n",
    "val tile = new TileLSUBlock(\"tile_0\", colNum, rowNum, inputPort, outputPort,\n",
    "  useMuxBypass = false, complex = true, isToroid = false, useCounter = true, dataWidth = dataWidth)\n",
    "arch.addBlock(tile)\n",
    "\n",
    "(0 until inputPort).foreach(i =>\n",
    "  arch.addConnect(arch.term(s\"input_$i\") -> tile / s\"input_$i\"))\n",
    "(0 until outputPort).foreach(i =>\n",
    "  arch.addConnect(tile / s\"out_$i\" -> arch.term(s\"out_$i\")))\n",
    "arch.init()\n",
    "\n",
    "val II = 1\n",
    "val MRRG = arch.getMRRG(II)\n",
    "var VizGraph = MRRG.GenGraph(\"VizGraph\")\n",
    "VizGraph.save(\"MRRG_origin\", \".\")\n",
    "VizGraph.render(fileName = \"MRRG_origin\", directory = \".\", format = \"jpg\")\n",
    "viewDFG(\"./MRRG_origin.jpg\")"
   ]
  }
 ],
 "metadata": {
  "kernelspec": {
   "display_name": "Scala",
   "language": "scala",
   "name": "scala"
  },
  "language_info": {
   "codemirror_mode": "text/x-scala",
   "file_extension": ".sc",
   "mimetype": "text/x-scala",
   "name": "scala",
   "nbconvert_exporter": "script",
   "version": "2.12.12"
  }
 },
 "nbformat": 4,
 "nbformat_minor": 5
}
