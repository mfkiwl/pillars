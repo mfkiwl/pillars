{
 "cells": [
  {
   "cell_type": "markdown",
   "id": "6c083d84",
   "metadata": {},
   "source": [
    "# Kernel Mapping Problem (MRRG)"
   ]
  },
  {
   "cell_type": "code",
   "execution_count": null,
   "id": "293d7876",
   "metadata": {},
   "outputs": [],
   "source": []
  }
 ],
 "metadata": {
  "kernelspec": {
   "display_name": "Scala",
   "language": "scala",
   "name": "scala"
  },
  "language_info": {
   "codemirror_mode": "text/x-scala",
   "file_extension": ".scala",
   "mimetype": "text/x-scala",
   "name": "scala",
   "nbconvert_exporter": "script",
   "version": "2.12.10"
  }
 },
 "nbformat": 4,
 "nbformat_minor": 5
}
