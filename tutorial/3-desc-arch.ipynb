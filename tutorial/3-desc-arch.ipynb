{
 "cells": [
  {
   "cell_type": "markdown",
   "id": "705a46c3",
   "metadata": {},
   "source": [
    "# Description of Architectue"
   ]
  },
  {
   "cell_type": "markdown",
   "id": "34cc889a",
   "metadata": {},
   "source": [
    "### <a id=\"top\"></a>Contents\n",
    "* [Overview](#overview)\n",
    "* [Architectural Element](#element)\n",
    "* [Architectural Block](#block)\n",
    "* [An Illustative Example](#example)"
   ]
  },
  {
   "cell_type": "markdown",
   "id": "b32602a0",
   "metadata": {},
   "source": [
    "## <a id=\"overview\"></a>Overview\n",
    "\n",
    "The architecture description employs a hierarchical design and a flattened implementation.\n",
    "\n",
    "An architectural component is described as an [element](#element) or a [block](#block).\n",
    "* An element is a leaf in the architectural hierarchy.\n",
    "* A block consists of elements and/or blocks to form a hierarchical architecture."
   ]
  },
  {
   "cell_type": "markdown",
   "id": "b1323075",
   "metadata": {},
   "source": [
    "### Setup"
   ]
  },
  {
   "cell_type": "code",
   "execution_count": null,
   "id": "4dbacdd3",
   "metadata": {},
   "outputs": [],
   "source": [
    "val ivy_path = System.getProperty(\"user.dir\") + \"/load-ivy.sc\"\n",
    "interp.load.module(ammonite.ops.Path(java.nio.file.FileSystems.getDefault().getPath(ivy_path)))"
   ]
  },
  {
   "cell_type": "code",
   "execution_count": null,
   "id": "77db1822",
   "metadata": {},
   "outputs": [],
   "source": [
    "import pillars.core.{BlockTrait, OpEnum}\n",
    "import pillars.core.OpEnum.OpEnum\n",
    "import pillars.hardware.PillarsConfig\n",
    "import pillars.archlib.{ElementAlu, ElementConst, ElementMux}\n",
    "import pillars.archlib.TileLSUBlock\n",
    "import pillars.core._\n",
    "import pillars.hardware.{TopModule}\n",
    "import pillars.archlib._"
   ]
  },
  {
   "cell_type": "markdown",
   "id": "2b854f53",
   "metadata": {},
   "source": [
    "## <a id=\"element\"></a>Custom Architecture\n",
    "\n",
    "User can build a custom architecture with \"Element\" and \"Block\".\n",
    "\n",
    "### **Element**\n",
    "\n",
    "Element corresponds to a Chisel hardware implementation.\n",
    "\n",
    "Each element has predefined lowering rules to generate an IR for hardware generation (e.g., Chisel modules) and mapping algorithms (e.g., MRRG or TEC). The domain knowledge is codified in these lowering rules.\n",
    "\n",
    "There are five predefined elements: \n",
    "* multiplexer\n",
    "* const unit\n",
    "* arithmetic logical unit\n",
    "* load/store unit (LSU)\n",
    "* register files (RF).\n",
    "\n",
    "### **Block**\n",
    "\n",
    "Blocks represent the design hierarchy. A block can be composed of several sub-blocks and elements.\n",
    "\n",
    "Main methods of a block:\n",
    "* initName(name): set the name of this block\n",
    "* addInPorts(ports): add some input ports of this block\n",
    "* addOutPorts(ports): add some output ports of this block\n",
    "* addElement(element): add an element in this block\n",
    "* addBlock(element): add a sub-block in this block\n",
    "* term(portName): get a port of this block\n",
    "* addConnect(port -> port): connet ports within this block\n",
    "* setConfigRegion(): set this block as a reconfiguration region.\n",
    "\n",
    "<div style=\"color: red;\">NOTICE:</div>All blocks and elements are identified by names, and if they share a collective parent block, their name must be different.\n",
    "\n",
    "\n",
    "\n"
   ]
  },
  {
   "cell_type": "markdown",
   "id": "ddc961d1",
   "metadata": {},
   "source": [
    "## Example\n",
    "\n",
    "### Example1: Define a block (`SimpleBlock`) with a single ALU element."
   ]
  },
  {
   "cell_type": "code",
   "execution_count": null,
   "id": "ad0e26d0",
   "metadata": {},
   "outputs": [],
   "source": [
    "class SimpleBlock(name: String, isRegion: Boolean = false) extends BlockTrait {\n",
    "    initName(name)\n",
    "    addInPorts(Array(\"input_0\",\"input_1\"))\n",
    "    addOutPorts(Array(\"out_0\"))\n",
    "    \n",
    "    if(isRegion){\n",
    "        setConfigRegion()\n",
    "    }\n",
    "    \n",
    "    // Initialize ALU supporting ADD/SUB\n",
    "    val aluOpList = List(OpEnum.ADD, OpEnum.SUB)\n",
    "    val supBypass = false \n",
    "    val aluParams = List(32) // 32 bit width\n",
    "    val alu0 = new ElementAlu(name+\"_ALU\", aluOpList, supBypass, List(32))\n",
    "    alu0.addInPorts(Array(\"input_A\", \"input_B\"))\n",
    "    alu0.addOutPorts(Array(\"out_0\"))\n",
    "    addElement(alu0)\n",
    "    \n",
    "    // Initialize internal connections\n",
    "    addConnect(term(\"input_0\") -> alu0 / \"input_A\")\n",
    "    addConnect(term(\"input_1\") -> alu0 / \"input_B\")\n",
    "    addConnect(alu0 / \"out_0\" -> term(\"out_0\"))\n",
    "}"
   ]
  },
  {
   "cell_type": "markdown",
   "id": "482f2b58",
   "metadata": {},
   "source": [
    "### Example2: Define a block (`BlockImmediate`) with three elements\n",
    "\n",
    "The block performs computation between the selected input and an immediate operand."
   ]
  },
  {
   "cell_type": "code",
   "execution_count": null,
   "id": "387acfb3",
   "metadata": {},
   "outputs": [],
   "source": [
    "/** A subblock that performs computation between the selected input and a immediate operand.\n",
    " *\n",
    " * @constructor create an abstract block model that performs computation between the input and a immediate operand\n",
    " * @param name the name of the model\n",
    " */\n",
    "class BlockImmediate(name: String) extends BlockTrait {\n",
    "  val aluParams = List(32)\n",
    "  val aluOpList = List(OpEnum.ADD)\n",
    "  val muxParams = List(2, 32)\n",
    "  val constParams = List(PillarsConfig.CONST_WIDTH)\n",
    "  initName(name)\n",
    "\n",
    "  addInPorts(Array(\"in0\", \"in1\"))\n",
    "  addOutPorts(Array(\"out0\"))\n",
    "  setConfigRegion()\n",
    "\n",
    "  /** A multiplexer that can choose a data source for the port \"inputA\" of the ALU.\n",
    "   */\n",
    "  val mux0 = new ElementMux(\"mux0\", muxParams)\n",
    "  mux0.addInPorts(Array(\"input0\", \"input1\"))\n",
    "  mux0.addOutPorts(Array(\"out0\"))\n",
    "  addElement(mux0)\n",
    "\n",
    "  /** An ALU that can perform some operations.\n",
    "   */\n",
    "  val alu0 = new ElementAlu(\"alu0\", aluOpList, supBypass = true, aluParams)\n",
    "  alu0.addInPorts(Array(\"inputA\", \"inputB\"))\n",
    "  alu0.addOutPorts(Array(\"out0\"))\n",
    "  addElement(alu0)\n",
    "\n",
    "  /** A const unit connected to the port \"inputB\" of ALU.\n",
    "   */\n",
    "  val const0 = new ElementConst(\"const0\", constParams)\n",
    "  const0.addOutPorts(Array(\"out0\"))\n",
    "  addElement(const0)\n",
    "\n",
    "  /** Interconnection inside this block.\n",
    "   */\n",
    "  addConnect(term(\"in0\") -> mux0 / \"input0\")\n",
    "  addConnect(term(\"in1\") -> mux0 / \"input1\")\n",
    "  addConnect(mux0 / \"out0\" -> alu0 / \"inputA\")\n",
    "  addConnect(const0 / \"out0\" -> alu0 / \"inputB\")\n",
    "  addConnect(alu0 / \"out0\" -> term(\"out0\"))\n",
    "}"
   ]
  },
  {
   "cell_type": "markdown",
   "id": "323c9e95",
   "metadata": {},
   "source": [
    "### Example3: Define a block (`NestBlock`) with a simple block and some other elements\n"
   ]
  },
  {
   "cell_type": "code",
   "execution_count": null,
   "id": "b8e309e6",
   "metadata": {},
   "outputs": [],
   "source": [
    "class NestBlock(name: String, isRegion:Boolean = false) extends BlockTrait {\n",
    "    initName(name)\n",
    "    addInPorts(Array(\"input_0\", \"input_1\"))\n",
    "    addOutPorts(Array(\"out_0\"))\n",
    "\n",
    "     if(isRegion){\n",
    "        setConfigRegion()\n",
    "    }\n",
    "    \n",
    "    // A multiplexer that can choose a data source for the port \"inputA\" of the ALU.\n",
    "    val muxParams = List(2, 32) // 2-input 32-bit width\n",
    "    val mux0 = new ElementMux(name+\"_mux\", muxParams)\n",
    "    mux0.addInPorts(Array(\"input_0\", \"input_1\"))\n",
    "    mux0.addOutPorts(Array(\"out_0\"))\n",
    "    addElement(mux0)\n",
    "    \n",
    "    // An ALU that can perform some operations.\n",
    "    val aluOpList = List(OpEnum.ADD, OpEnum.SUB, OpEnum.AND, OpEnum.OR, OpEnum.XOR, OpEnum.MUL)\n",
    "    val supBypass = true \n",
    "    val aluParams = List(32) // 32 bit width\n",
    "    val alu0 = new ElementAlu(name+\"_ALU\", aluOpList, supBypass, aluParams)\n",
    "    \n",
    "    alu0.addInPorts(Array(\"inputA\", \"inputB\"))\n",
    "    alu0.addOutPorts(Array(\"out_0\"))\n",
    "    addElement(alu0)\n",
    "    \n",
    "    // A const unit connected to the port \"inputB\" of ALU.\n",
    "    val constParams = List(32) // 32 bit width\n",
    "    val const0 = new ElementConst(name+\"_const0\", constParams)\n",
    "    const0.addOutPorts(Array(\"out_0\"))\n",
    "    addElement(const0)\n",
    "    \n",
    "    // A simple sub-block with 2 input ports and 1 output port.\n",
    "    val subBLock = new SimpleBlock(name+\"_subBlock\")\n",
    "    addBlock(subBLock)\n",
    "\n",
    "    // Interconnection inside this block.\n",
    "    addConnect(term(\"input_0\") -> mux0 / \"input_0\")\n",
    "    addConnect(term(\"input_1\") -> mux0 / \"input_1\")\n",
    "    addConnect(mux0 / \"out_0\" -> alu0 / \"inputA\")\n",
    "    addConnect(const0 / \"out_0\" -> alu0 / \"inputB\")\n",
    "    addConnect(term(\"input_1\") -> subBLock / \"input_0\")\n",
    "    addConnect(alu0 / \"out_0\" -> subBLock / \"input_1\")\n",
    "    addConnect(subBLock / \"out_0\" -> term(\"out_0\"))\n",
    "}"
   ]
  },
  {
   "cell_type": "markdown",
   "id": "a2c60181",
   "metadata": {},
   "source": [
    "**See** [Generation of Hardware](5-gen-hardware.ipynb) to continue generating Verilog code."
   ]
  }
 ],
 "metadata": {
  "kernelspec": {
   "display_name": "Scala",
   "language": "scala",
   "name": "scala"
  },
  "language_info": {
   "codemirror_mode": "text/x-scala",
   "file_extension": ".sc",
   "mimetype": "text/x-scala",
   "name": "scala",
   "nbconvert_exporter": "script",
   "version": "2.12.12"
  }
 },
 "nbformat": 4,
 "nbformat_minor": 5
}
