{
 "cells": [
  {
   "attachments": {},
   "cell_type": "markdown",
   "id": "c088b1ec",
   "metadata": {},
   "source": [
    "# Cycle-Accurate Simulation"
   ]
  },
  {
   "cell_type": "code",
   "execution_count": null,
   "id": "fc59b4bd",
   "metadata": {},
   "outputs": [],
   "source": [
    "val ivy_path = System.getProperty(\"user.dir\") + \"/load-ivy.sc\"\n",
    "interp.load.module(ammonite.ops.Path(java.nio.file.FileSystems.getDefault().getPath(ivy_path)))"
   ]
  },
  {
   "cell_type": "code",
   "execution_count": null,
   "id": "44cc94c7",
   "metadata": {},
   "outputs": [],
   "source": [
    "import pillars.testers.{AppTestHelper, ApplicationTester}\n",
    "import pillars.hardware.{TopModule}\n",
    "import chisel3.iotesters.PeekPokeTester\n",
    "import chisel3.iotesters.{ChiselFlatSpec, Driver, PeekPokeTester}\n",
    "import sys.process._"
   ]
  },
  {
   "attachments": {},
   "cell_type": "markdown",
   "id": "b4196f9a",
   "metadata": {},
   "source": [
    "## A sample code of typical tester in Pillars.\n",
    "We can obtain the result of cycle-accurate simulation. \n",
    "The expected behaviors of CGRA can be verified at output ports of the top module during the activating process or the data obtained from LSUs during the post-process."
   ]
  },
  {
   "cell_type": "code",
   "execution_count": null,
   "id": "dcada9f8",
   "metadata": {},
   "outputs": [],
   "source": [
    "class Tester(c: TopModule, appTestHelper: AppTestHelper)\n",
    "  extends ApplicationTester(c, appTestHelper) {\n",
    "\n",
    "  //pre-process\n",
    "  poke(c.io.en, 0)\n",
    "  inputData()\n",
    "  val testII = appTestHelper.getTestII()\n",
    "  inputConfig(testII)\n",
    "\n",
    "  //activating process\n",
    "  poke(c.io.en, 1)\n",
    "  checkPortOutsWithInput(testII)\n",
    "\n",
    "  //Wait reverse finished\n",
    "  step(10)\n",
    "  //post-process\n",
    "  checkLSUData()\n",
    "}"
   ]
  },
  {
   "attachments": {},
   "cell_type": "markdown",
   "id": "4fe94047",
   "metadata": {},
   "source": [
    "## Run the tester for the simple example of the Add DFG and the SimpleBlockWithReg\n",
    "Due to the bug of Chisel and Jupyter notebook, we run it by a script."
   ]
  },
  {
   "cell_type": "code",
   "execution_count": null,
   "id": "17cea148",
   "metadata": {},
   "outputs": [],
   "source": [
    "// iotesters.Driver.execute(Array(\"-tgvo\", \"on\", \"-tbn\", \"verilator\"), topDesign) {\n",
    "//       c => new AddTester(c, appTestHelper)\n",
    "//     }\n",
    "val run = \"./run_add.sh\"\n",
    "run!"
   ]
  },
  {
   "attachments": {},
   "cell_type": "markdown",
   "id": "4d1b65e9",
   "metadata": {},
   "source": [
    "## Run the tester for the example of the Vadd-Reverse DFG and the 4X4 TileLSUBlock in library"
   ]
  },
  {
   "cell_type": "code",
   "execution_count": null,
   "id": "097f544f",
   "metadata": {},
   "outputs": [],
   "source": [
    "// iotesters.Driver.execute(Array(\"-tgvo\", \"on\", \"-tbn\", \"verilator\"), topDesign) {\n",
    "//       c => new VaddReverseTester(c, appTestHelper)\n",
    "//     }\n",
    "val run = \"./run.sh\"\n",
    "run!"
   ]
  }
 ],
 "metadata": {
  "kernelspec": {
   "display_name": "Scala",
   "language": "scala",
   "name": "scala"
  },
  "language_info": {
   "codemirror_mode": "text/x-scala",
   "file_extension": ".sc",
   "mimetype": "text/x-scala",
   "name": "scala",
   "nbconvert_exporter": "script",
   "version": "2.12.8"
  }
 },
 "nbformat": 4,
 "nbformat_minor": 5
}
