{
 "cells": [
  {
   "cell_type": "markdown",
   "id": "9496e86c",
   "metadata": {},
   "source": [
    "# Description of Compute Kernel"
   ]
  },
  {
   "cell_type": "code",
   "execution_count": null,
   "id": "f4345ad9",
   "metadata": {},
   "outputs": [],
   "source": []
  }
 ],
 "metadata": {
  "kernelspec": {
   "display_name": "Scala",
   "language": "scala",
   "name": "scala"
  },
  "language_info": {
   "codemirror_mode": "text/x-scala",
   "file_extension": ".scala",
   "mimetype": "text/x-scala",
   "name": "scala",
   "nbconvert_exporter": "script",
   "version": "2.12.10"
  }
 },
 "nbformat": 4,
 "nbformat_minor": 5
}
