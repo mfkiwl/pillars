{
 "cells": [
  {
   "cell_type": "markdown",
   "id": "9496e86c",
   "metadata": {},
   "source": [
    "# Description of Compute Kernel"
   ]
  },
  {
   "cell_type": "markdown",
   "id": "4516a5f2",
   "metadata": {},
   "source": [
    "## Setup"
   ]
  },
  {
   "cell_type": "code",
   "execution_count": null,
   "id": "86738609",
   "metadata": {},
   "outputs": [],
   "source": [
    "val ivy_path = System.getProperty(\"user.dir\") + \"/load-ivy.sc\"\n",
    "interp.load.module(ammonite.ops.Path(java.nio.file.FileSystems.getDefault().getPath(ivy_path)))"
   ]
  },
  {
   "cell_type": "code",
   "execution_count": null,
   "id": "cb61b00e",
   "metadata": {},
   "outputs": [],
   "source": [
    "import pillars.mapping.thirdParty._\n",
    "import scala.collection.mutable.Map"
   ]
  },
  {
   "cell_type": "markdown",
   "id": "98c06059",
   "metadata": {},
   "source": [
    "## `Example1`: a DFG contains vector addition\n",
    "Define a method to descript vector addition."
   ]
  },
  {
   "cell_type": "code",
   "execution_count": null,
   "id": "c3ee2a3c",
   "metadata": {},
   "outputs": [],
   "source": [
    "def initVadd(g: Digraph): Unit = {\n",
    "    //Initialize nodes in this DFG\n",
    "    //input index i of A(i) and B(i)\n",
    "    g.node(\"input0\", attrs = Map(\"opcode\" -> \"input\"))\n",
    "    //offset of array A in SRAM 0\n",
    "    g.node(\"const0\", attrs = Map(\"opcode\" -> \"const\"))\n",
    "    //offset of array B in SRAM 1\n",
    "    g.node(\"const1\", attrs = Map(\"opcode\" -> \"const\"))\n",
    "    //get the offset of A(i) by adding const0 to input0\n",
    "    g.node(\"add0\", attrs = Map(\"opcode\" -> \"add\"))\n",
    "    //get the offset of B(i) by adding const1 to input0\n",
    "    g.node(\"add1\", attrs = Map(\"opcode\" -> \"add\"))\n",
    "    //get the value of A(i) from SRAM 0\n",
    "    g.node(\"load0\", attrs = Map(\"opcode\" -> \"load\", \"sram\" -> \"0\"))\n",
    "    //get the value of B(i) from SRAM 1\n",
    "    g.node(\"load1\", attrs = Map(\"opcode\" -> \"load\", \"sram\" -> \"1\"))\n",
    "    //sum A(i) and B(i)\n",
    "    g.node(\"add2\", attrs = Map(\"opcode\" -> \"add\"))\n",
    "    //get (A(i) + B(i)) from output port\n",
    "    g.node(\"output0\", attrs = Map(\"opcode\" -> \"output\"))\n",
    "\n",
    "    //Initialize edges in this DFG\n",
    "    //connect inputs of node add0\n",
    "    g.edge(\"const0\", \"add0\"\n",
    "      , attrs = Map(\"operand\" -> \"0\"))\n",
    "    g.edge(\"input0\", \"add0\"\n",
    "      , attrs = Map(\"operand\" -> \"1\"))\n",
    "    //connect inputs of node add1\n",
    "    g.edge(\"const1\", \"add1\"\n",
    "      , attrs = Map(\"operand\" -> \"0\"))\n",
    "    g.edge(\"input0\", \"add1\"\n",
    "      , attrs = Map(\"operand\" -> \"1\"))\n",
    "    //connect add0 to load0\n",
    "    g.edge(\"add0\", \"load0\"\n",
    "      , attrs = Map(\"operand\" -> \"0\"))\n",
    "    //connect add1 to load1\n",
    "    g.edge(\"add1\", \"load1\"\n",
    "      , attrs = Map(\"operand\" -> \"0\"))\n",
    "    //connect inputs of node add2\n",
    "    g.edge(\"load0\", \"add2\"\n",
    "      , attrs = Map(\"operand\" -> \"0\"))\n",
    "    g.edge(\"load1\", \"add2\"\n",
    "      , attrs = Map(\"operand\" -> \"1\"))\n",
    "    //connect add2 to output0\n",
    "    g.edge(\"add2\", \"output0\"\n",
    "      , attrs = Map(\"operand\" -> \"0\"))\n",
    "}"
   ]
  },
  {
   "cell_type": "markdown",
   "id": "3bc1d6ca",
   "metadata": {},
   "source": [
    "Save the DFG as a .dot file and visualize"
   ]
  },
  {
   "cell_type": "code",
   "execution_count": null,
   "id": "6daec186",
   "metadata": {},
   "outputs": [],
   "source": [
    "val g = new Digraph(\"VAdd\")\n",
    "initVadd(g)\n",
    "// save the .dot file\n",
    "g.save(\"Vadd.dot\", \".\", print = true)\n",
    "\n",
    "// visualize\n",
    "g.render(fileName = \"Vadd.dot\", directory = \".\", format = \"jpg\")\n",
    "viewDFG(\"./Vadd.dot.jpg\")"
   ]
  },
  {
   "cell_type": "markdown",
   "id": "87b29118",
   "metadata": {},
   "source": [
    "## `Example2`: a DFG contains vector addition and vector reverse\n",
    "Define a method to descript vector reverse."
   ]
  },
  {
   "cell_type": "code",
   "execution_count": null,
   "id": "58f9159e",
   "metadata": {},
   "outputs": [],
   "source": [
    "def initReverse(g: Digraph): Unit = {\n",
    "    //Initialize nodes in this DFG\n",
    "    g.node(\"incr0\", attrs = Map(\"opcode\" -> \"incr\"))\n",
    "    g.node(\"const2\", attrs = Map(\"opcode\" -> \"const\"))\n",
    "    g.node(\"sub0\", attrs = Map(\"opcode\" -> \"sub\"))\n",
    "    g.node(\"const3\", attrs = Map(\"opcode\" -> \"const\"))\n",
    "    g.node(\"const4\", attrs = Map(\"opcode\" -> \"const\"))\n",
    "    g.node(\"add3\", attrs = Map(\"opcode\" -> \"add\"))\n",
    "    g.node(\"add4\", attrs = Map(\"opcode\" -> \"add\"))\n",
    "    g.node(\"load2\", attrs = Map(\"opcode\" -> \"load\"))\n",
    "    g.node(\"store0\", attrs = Map(\"opcode\" -> \"store\", \"sram\" -> \"3\"))\n",
    "\n",
    "    //Initialize edges in this DFG\n",
    "    //connect inputs of node add3\n",
    "    g.edge(\"incr0\", \"add3\"\n",
    "      , attrs = Map(\"operand\" -> \"0\"))\n",
    "    g.edge(\"const3\", \"add3\"\n",
    "      , attrs = Map(\"operand\" -> \"1\"))\n",
    "    //connect inputs of node sub0\n",
    "    //operand of the minuend should be 0\n",
    "    g.edge(\"const2\", \"sub0\"\n",
    "      , attrs = Map(\"operand\" -> \"0\"))\n",
    "    //operand of the subtrahend should be 1\n",
    "    g.edge(\"incr0\", \"sub0\"\n",
    "      , attrs = Map(\"operand\" -> \"1\"))\n",
    "    //connect inputs of node add4\n",
    "    g.edge(\"sub0\", \"add4\"\n",
    "      , attrs = Map(\"operand\" -> \"0\"))\n",
    "    g.edge(\"const4\", \"add4\"\n",
    "      , attrs = Map(\"operand\" -> \"1\"))\n",
    "    //connect add3 to load2\n",
    "    g.edge(\"add3\", \"load2\"\n",
    "      , attrs = Map(\"operand\" -> \"0\"))\n",
    "    //connect add4 to store0, operand of the address should be 0\n",
    "    g.edge(\"add4\", \"store0\"\n",
    "      , attrs = Map(\"operand\" -> \"0\"))\n",
    "    //connect load2 to store0, operand of the value to be saved should be 0\n",
    "    g.edge(\"load2\", \"store0\"\n",
    "      , attrs = Map(\"operand\" -> \"1\"))\n",
    "}"
   ]
  },
  {
   "cell_type": "markdown",
   "id": "76342f03",
   "metadata": {},
   "source": [
    "Save the DFG as a .dot file and visualize"
   ]
  },
  {
   "cell_type": "code",
   "execution_count": null,
   "id": "33c95453",
   "metadata": {},
   "outputs": [],
   "source": [
    "val g = new Digraph(\"VAdd_Reverse\")\n",
    "initVadd(g)\n",
    "initReverse(g)\n",
    "//save the .dot file and visualize\n",
    "g.save(\"Vadd_Reverse_.dot\", \"./\", print = true)\n",
    "g.render(fileName = \"Vadd_Reverse_.dot\", directory = \".\", format = \"jpg\")\n",
    "viewDFG(\"./Vadd_Reverse_.dot.jpg\")"
   ]
  }
 ],
 "metadata": {
  "kernelspec": {
   "display_name": "Scala",
   "language": "scala",
   "name": "scala"
  },
  "language_info": {
   "codemirror_mode": "text/x-scala",
   "file_extension": ".sc",
   "mimetype": "text/x-scala",
   "name": "scala",
   "nbconvert_exporter": "script",
   "version": "2.12.10"
  }
 },
 "nbformat": 4,
 "nbformat_minor": 5
}
