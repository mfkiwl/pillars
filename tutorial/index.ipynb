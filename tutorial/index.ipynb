{
 "cells": [
  {
   "cell_type": "markdown",
   "id": "4e101a97",
   "metadata": {},
   "source": [
    "# Welcome to pillars' documentation!\n",
    "\n",
    "## Contents\n",
    "\n",
    "1. [An Introduction to CGRA/XGRA](1-intro-xgra.ipynb)\n",
    "2. [An Example Design Flow](2-example-flow.ipynb)\n",
    "3. [Description of Architectue](3-desc-arch.ipynb)\n",
    "4. [Description of Compute Kernel](4-desc-krnl.ipynb)\n",
    "5. [Generation of Hardware](5-gen-hardware.ipynb)\n",
    "6. [Generation of Mapping Model (MRRG)](6-gen-mrrg.ipynb)\n",
    "7. [Kernel Mapping Problem (MRRG)](7-map-mrrg.ipynb)\n",
    "8. [Generation of Configuration](8-gen-config.ipynb)\n",
    "9. [Cycle-Accurate Simulation](9-simulation.ipynb)"
   ]
  }
 ],
 "metadata": {
  "kernelspec": {
   "display_name": "Scala",
   "language": "scala",
   "name": "scala"
  },
  "language_info": {
   "codemirror_mode": "text/x-scala",
   "file_extension": ".scala",
   "mimetype": "text/x-scala",
   "name": "scala",
   "nbconvert_exporter": "script",
   "version": "2.12.10"
  }
 },
 "nbformat": 4,
 "nbformat_minor": 5
}
